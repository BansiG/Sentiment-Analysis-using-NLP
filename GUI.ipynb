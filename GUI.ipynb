{
 "cells": [
  {
   "cell_type": "code",
   "execution_count": 2,
   "metadata": {},
   "outputs": [],
   "source": [
    "from tkinter import *\n",
    "\n",
    "def show_entry_fields():\n",
    "   myword=e1.get()\n",
    "\n",
    "master = Tk()\n",
    "Label(master, text=\"Search Keyword :\").grid(row=0)\n",
    "master.title(\"Kaju Badam\")\n",
    "e1 = Entry(master)\n",
    "\n",
    "e1.grid(row=0, column=1)\n",
    "\n",
    "Button(master, text='Quit', command=master.quit).grid(row=3, column=0, sticky=W, pady=4)\n",
    "Button(master, text='Search', command=show_entry_fields).grid(row=3, column=1, sticky=W, pady=4)\n",
    "\n",
    "mainloop( )"
   ]
  },
  {
   "cell_type": "code",
   "execution_count": null,
   "metadata": {},
   "outputs": [],
   "source": []
  }
 ],
 "metadata": {
  "kernelspec": {
   "display_name": "Python 3",
   "language": "python",
   "name": "python3"
  },
  "language_info": {
   "codemirror_mode": {
    "name": "ipython",
    "version": 3
   },
   "file_extension": ".py",
   "mimetype": "text/x-python",
   "name": "python",
   "nbconvert_exporter": "python",
   "pygments_lexer": "ipython3",
   "version": "3.6.4"
  }
 },
 "nbformat": 4,
 "nbformat_minor": 2
}
