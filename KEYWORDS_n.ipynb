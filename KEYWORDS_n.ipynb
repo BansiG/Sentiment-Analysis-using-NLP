{
 "cells": [
  {
   "cell_type": "code",
   "execution_count": 1,
   "metadata": {},
   "outputs": [
    {
     "name": "stdout",
     "output_type": "stream",
     "text": [
      "10664\n"
     ]
    }
   ],
   "source": [
    "from rake_nltk import Rake\n",
    "import requests\n",
    "import nltk\n",
    "from nltk.corpus import stopwords\n",
    "from nltk.tokenize import word_tokenize, sent_tokenize\n",
    "import sentiment_mod as s"
   ]
  },
  {
   "cell_type": "code",
   "execution_count": 86,
   "metadata": {},
   "outputs": [],
   "source": [
    "def findkey(tweet):\n",
    "    r = Rake()\n",
    "\n",
    "    r.extract_keywords_from_text(tweet)\n",
    "\n",
    "    keywords = r.get_ranked_phrases()\n",
    "    keynews=\" \".join(keywords)\n",
    "    print(\"keywords\")\n",
    "    print(keywords)\n",
    "    print(\"keynews\")\n",
    "    print(keynews)\n",
    "#     stopWords = set(stopwords.words(\"english\"))\n",
    "    token = nltk.word_tokenize(keynews)\n",
    "    print(\"token\")\n",
    "    print(token)\n",
    "#     t1 = set(token)\n",
    "\n",
    "#     print(t1)\n",
    "#     t2 = list(t1)\n",
    "#     print(t2)\n",
    "#     l = len(token)\n",
    "#     if(l<5):\n",
    "#         l = int(l/2)+1\n",
    "#     else:\n",
    "#         l = 5\n",
    "    keyn=\"\".join(token[i]+\"+\" for i in range(0,3))\n",
    "    keyn=keyn+token[len(token)-1]\n",
    "    \n",
    "#     freqTable = dict()\n",
    "#     for word in token:\n",
    "#         word = word.lower()\n",
    "#         if word in keywords:\n",
    "#             continue\n",
    "#         if word in freqTable:\n",
    "#             freqTable[word] += 1\n",
    "#         else:\n",
    "#             freqTable[word] = 1\n",
    "        \n",
    "#         print(word,freqTable[word])\n",
    "# #     sorted_dict = sorted(freqTable.items(), key=operator.itemgetter(1))\n",
    "# #     print(sorted_dict)\n",
    "#     l = len(freqTable.keys())\n",
    "#     if(l<5):\n",
    "#         l = int(l/2)+1\n",
    "#     else:\n",
    "#         l = 5\n",
    "    \n",
    "    \n",
    "#     for i in sorted(freqTable):\n",
    "#         wordss = freqTable[i].values()\n",
    "    return(keyn)"
   ]
  },
  {
   "cell_type": "code",
   "execution_count": 87,
   "metadata": {},
   "outputs": [
    {
     "name": "stdout",
     "output_type": "stream",
     "text": [
      "keywords\n",
      "['beti ke maa baap bhai ko bachao bihar bachao bharat bachao', 'beti bachao beti padhao', 'nitishkumar', 'narendramodi', 'fightagainstdowry']\n",
      "keynews\n",
      "beti ke maa baap bhai ko bachao bihar bachao bharat bachao beti bachao beti padhao nitishkumar narendramodi fightagainstdowry\n",
      "token\n",
      "['beti', 'ke', 'maa', 'baap', 'bhai', 'ko', 'bachao', 'bihar', 'bachao', 'bharat', 'bachao', 'beti', 'bachao', 'beti', 'padhao', 'nitishkumar', 'narendramodi', 'fightagainstdowry']\n"
     ]
    },
    {
     "data": {
      "text/plain": [
       "'beti+ke+maa+fightagainstdowry'"
      ]
     },
     "execution_count": 87,
     "metadata": {},
     "output_type": "execute_result"
    }
   ],
   "source": []
  },
  {
   "cell_type": "code",
   "execution_count": null,
   "metadata": {},
   "outputs": [],
   "source": []
  },
  {
   "cell_type": "code",
   "execution_count": null,
   "metadata": {},
   "outputs": [],
   "source": []
  }
 ],
 "metadata": {
  "kernelspec": {
   "display_name": "Python 3",
   "language": "python",
   "name": "python3"
  },
  "language_info": {
   "codemirror_mode": {
    "name": "ipython",
    "version": 3
   },
   "file_extension": ".py",
   "mimetype": "text/x-python",
   "name": "python",
   "nbconvert_exporter": "python",
   "pygments_lexer": "ipython3",
   "version": "3.6.4"
  }
 },
 "nbformat": 4,
 "nbformat_minor": 2
}
