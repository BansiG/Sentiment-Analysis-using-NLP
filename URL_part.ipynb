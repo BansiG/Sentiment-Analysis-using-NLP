{
 "cells": [
  {
   "cell_type": "code",
   "execution_count": 68,
   "metadata": {},
   "outputs": [],
   "source": [
    "from rake_nltk import Rake\n",
    "import requests\n",
    "import nltk\n",
    "from nltk.corpus import stopwords\n",
    "from nltk.tokenize import word_tokenize, sent_tokenize\n",
    "import NEWS_senti as n"
   ]
  },
  {
   "cell_type": "code",
   "execution_count": 69,
   "metadata": {},
   "outputs": [],
   "source": [
    "def urlnews(keyword,word):\n",
    "    print('\\n$$$$$$$$$$$$$$$$$$$$$$$$$$$$$$$$$$$$$$$$$$$$$$$$$$$$$$$$$$$$$$$$$$$$$$$$$$$$$$$$$$$$$$$$$\\n')\n",
    "    url = ('https://newsapi.org/v2/everything?'\n",
    "           'q='+word+'&'\n",
    "           'sortBy=popularity&'\n",
    "           'apiKey=4d7d8134b4134170bfaec5ee56fc3443')\n",
    "    print(url)\n",
    "    response = requests.get(url)\n",
    "\n",
    "    a = response.json()\n",
    "    news1=[]\n",
    "    title1=[]\n",
    "    \n",
    "    \n",
    "    for i in range(10):\n",
    "        x = a[\"articles\"][i][\"description\"]\n",
    "        y = a[\"articles\"][i][\"title\"]\n",
    "#         print(news1)\n",
    "\n",
    "        news1.append(x.replace('\"', ''))\n",
    "        title1.append(y.replace('\"', ''))\n",
    "#         print(news1)\n",
    "    return(news1,title1)\n"
   ]
  },
  {
   "cell_type": "code",
   "execution_count": 70,
   "metadata": {},
   "outputs": [
    {
     "name": "stdout",
     "output_type": "stream",
     "text": [
      "\n",
      "$$$$$$$$$$$$$$$$$$$$$$$$$$$$$$$$$$$$$$$$$$$$$$$$$$$$$$$$$$$$$$$$$$$$$$$$$$$$$$$$$$$$$$$$$\n",
      "\n",
      "https://newsapi.org/v2/everything?q=narendramodi&sortBy=popularity&apiKey=4d7d8134b4134170bfaec5ee56fc3443\n"
     ]
    },
    {
     "data": {
      "text/plain": [
       "([\"CBS News India's Modi defends free trade as the US raises tariffs CBS News Indian Prime Minister Narendra Modi warned Tuesday that the recent wave of trade protectionism, in which governments raise barriers to free trade between nations, is worrisome. Modi …\",\n",
       "  'Canada rescinds dinner invitation to Jaspal Atwal, a former member of a Sikh organisation regarded by India as a terrorist group Justin Trudeau’s state visit to India has been overshadowed by revelations that a businessman convicted of trying to assassinate a…',\n",
       "  'Bollywood superstar Sridevi accidentally drowned in a bathtub after losing consciousness',\n",
       "  \"Balkrishna Doshi is the first Indian to receive the award, considered architecture's highest honour.\",\n",
       "  \"Professor Stephen Hawking dies at home in Cambridge World renowned physicist wrote A Brief History of Time His life was dominated by incurable motor neurone disease Prof Hawking beat odds after being given just 14 months to live Eddie Redmayne hails 'astonish…\",\n",
       "  \"'We have a very good chemistry.'\",\n",
       "  \"Tehran and New Delhi sign nine pacts, including lease of Chabahar Port to Indian company, during Rouhani's India trip.\",\n",
       "  'NEW DELHI: Jammu and Kashmir Chief Minister Mehbooba Mufti has urged the Haryana government to take stringent action against the perpetrators for assaulting Kashmiri students and demanded a probe into the case.',\n",
       "  \"Prime Minister Narendra Modi on Sunday said he will share his vision for India's future engagements with the international community during his Davos trip, as he sought serious attention of world leaders on existing and emerging challenges to the contempora…\",\n",
       "  '1.'],\n",
       " [\"India's Modi defends free trade as the US raises tariffs - CBS News\",\n",
       "  \"Trudeau's India visit overshadowed by invitation to attempted murderer\",\n",
       "  \"Bollywood Superstar Sridevi's Death Ruled Accidental Drowning, Police Close Investigation\",\n",
       "  'Balkrishna Doshi: Indian wins prestigious Pritzker Prize',\n",
       "  \"Stephen Hawking dies at 76: 'A star just went out' - world honours renowned British physicist\",\n",
       "  'Modi, Macron sign defence deal',\n",
       "  'Iran and India sign deal to deepen relations',\n",
       "  'J&K students beaten in Haryana, Mufti wants probe',\n",
       "  \"'Will share vision for India's global engagements'\",\n",
       "  \"Delhi Metro's Magenta Line: 10 things to know\"])"
      ]
     },
     "execution_count": 70,
     "metadata": {},
     "output_type": "execute_result"
    }
   ],
   "source": [
    "urlnews(\"Speaking at a function organized\",\"narendramodi\")\n",
    "\n"
   ]
  },
  {
   "cell_type": "code",
   "execution_count": null,
   "metadata": {},
   "outputs": [],
   "source": []
  },
  {
   "cell_type": "code",
   "execution_count": null,
   "metadata": {},
   "outputs": [],
   "source": []
  }
 ],
 "metadata": {
  "kernelspec": {
   "display_name": "Python 3",
   "language": "python",
   "name": "python3"
  },
  "language_info": {
   "codemirror_mode": {
    "name": "ipython",
    "version": 3
   },
   "file_extension": ".py",
   "mimetype": "text/x-python",
   "name": "python",
   "nbconvert_exporter": "python",
   "pygments_lexer": "ipython3",
   "version": "3.6.4"
  }
 },
 "nbformat": 4,
 "nbformat_minor": 2
}
